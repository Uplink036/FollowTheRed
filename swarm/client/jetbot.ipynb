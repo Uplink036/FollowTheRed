{
 "cells": [
  {
   "cell_type": "code",
   "execution_count": null,
   "metadata": {},
   "outputs": [],
   "source": [
    "import cv2\n",
    "from jetbot import Camera, Robot\n",
    "from http.server import BaseHTTPRequestHandler, HTTPServer\n",
    "import threading\n",
    "import urllib.parse\n",
    "\n",
    "from swarm.client.algorithm import BoxFollower"
   ]
  },
  {
   "cell_type": "code",
   "execution_count": null,
   "metadata": {},
   "outputs": [],
   "source": [
    "# Function to convert BGR8 images to JPEG\n",
    "def bgr8_to_jpeg(value):\n",
    "    return cv2.imencode('.jpg', value)[1].tobytes()\n",
    "\n",
    "# Initialize the camera and robot\n",
    "camera = Camera.instance(width=224, height=224)\n",
    "robot = Robot()"
   ]
  },
  {
   "cell_type": "code",
   "execution_count": null,
   "metadata": {},
   "outputs": [],
   "source": [
    "# HTTP request handler class\n",
    "class NetworkHandler(BaseHTTPRequestHandler):\n",
    "    def __init__(self, *args, **kwargs):\n",
    "        self.running = True\n",
    "        self.paused = False\n",
    "        self.image = None\n",
    "\n",
    "        self.box_follower_thread = threading.Thread(\n",
    "            target=self.box_follower_handler, daemon=True)\n",
    "        self.box_follower_thread.start()\n",
    "\n",
    "        # Important: Call superclass constructor last\n",
    "        super().__init__(*args, **kwargs)\n",
    "\n",
    "    def box_follower_handler(self):\n",
    "        bf = BoxFollower()\n",
    "        while self.running:\n",
    "            if not self.paused:\n",
    "                self.image = camera.value\n",
    "                decision = bf.step(self.image)\n",
    "                print(f\"Decision: {decision}\")\n",
    "\n",
    "    def do_GET(self):\n",
    "        if self.path.startswith('/camera'):\n",
    "            self.send_response(200)\n",
    "            self.send_header('Content-type', 'image/jpeg')\n",
    "            self.end_headers()\n",
    "            self.wfile.write(bgr8_to_jpeg(camera.value))\n",
    "        else:\n",
    "            query = urllib.parse.urlparse(self.path).query\n",
    "            params = urllib.parse.parse_qs(query)\n",
    "            if self.path.startswith('/set_motors'):\n",
    "                left_speed = float(params.get('left', [0])[0])\n",
    "                right_speed = float(params.get('right', [0])[0])\n",
    "                robot.set_motors(left_speed, right_speed)\n",
    "                self.send_response(200)\n",
    "                self.end_headers()\n",
    "                self.wfile.write(b'Motors set')\n",
    "            elif self.path.startswith('/left'):\n",
    "                speed = float(params.get('speed', [0])[0])\n",
    "                robot.left(speed)\n",
    "                self.send_response(200)\n",
    "                self.end_headers()\n",
    "                self.wfile.write(b'Left command executed')\n",
    "            elif self.path.startswith('/right'):\n",
    "                speed = float(params.get('speed', [0])[0])\n",
    "                robot.right(speed)\n",
    "                self.send_response(200)\n",
    "                self.end_headers()\n",
    "                self.wfile.write(b'Right command executed')\n",
    "            elif self.path.startswith('/forward'):\n",
    "                speed = float(params.get('speed', [0])[0])\n",
    "                robot.forward(speed)\n",
    "                self.send_response(200)\n",
    "                self.end_headers()\n",
    "                self.wfile.write(b'Forward command executed')\n",
    "            elif self.path.startswith('/stop'):\n",
    "                robot.stop()\n",
    "                self.send_response(200)\n",
    "                self.end_headers()\n",
    "                self.wfile.write(b'Stop command executed')\n",
    "            elif self.path.startswith('/run_algo'):\n",
    "                self.paused = False\n",
    "            elif self.path.startswith('/stop_algo'):\n",
    "                self.paused = True\n",
    "\n"
   ]
  },
  {
   "cell_type": "code",
   "execution_count": null,
   "metadata": {},
   "outputs": [],
   "source": [
    "# Function to run the HTTP server\n",
    "def run_server():\n",
    "    server = HTTPServer(('0.0.0.0', 8080), NetworkHandler)\n",
    "    server.serve_forever()\n",
    "\n",
    "    # Start the server in a separate thread\n",
    "    thread = threading.Thread(target=run_server)\n",
    "    thread.start()"
   ]
  },
  {
   "cell_type": "code",
   "execution_count": null,
   "metadata": {},
   "outputs": [],
   "source": [
    "run_server()"
   ]
  }
 ],
 "metadata": {
  "language_info": {
   "name": "python"
  }
 },
 "nbformat": 4,
 "nbformat_minor": 2
}
