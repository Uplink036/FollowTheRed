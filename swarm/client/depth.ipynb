{
 "cells": [
  {
   "cell_type": "code",
   "execution_count": null,
   "metadata": {},
   "outputs": [],
   "source": [
    "from PIL import Image\n",
    "import numpy as np\n",
    "import cv2\n",
    "import torch\n",
    "import requests\n",
    "import matplotlib.pyplot as plt"
   ]
  },
  {
   "cell_type": "code",
   "execution_count": null,
   "metadata": {},
   "outputs": [],
   "source": [
    "url = \"http://images.cocodataset.org/val2017/000000039769.jpg\"\n",
    "image = Image.open(requests.get(url, stream=True).raw)"
   ]
  },
  {
   "cell_type": "code",
   "execution_count": null,
   "metadata": {},
   "outputs": [],
   "source": [
    "image"
   ]
  },
  {
   "cell_type": "code",
   "execution_count": 17,
   "metadata": {},
   "outputs": [],
   "source": [
    "def pil2cv(image: Image) -> np.ndarray:\n",
    "    mode = image.mode\n",
    "    new_image: np.ndarray\n",
    "    if mode == '1':\n",
    "        new_image = np.array(image, dtype=np.uint8)\n",
    "        new_image *= 255\n",
    "    elif mode == 'L':\n",
    "        new_image = np.array(image, dtype=np.uint8)\n",
    "    elif mode == 'LA' or mode == 'La':\n",
    "        new_image = np.array(image.convert('RGBA'), dtype=np.uint8)\n",
    "        new_image = cv2.cvtColor(new_image, cv2.COLOR_RGBA2BGRA)\n",
    "    elif mode == 'RGB':\n",
    "        new_image = np.array(image, dtype=np.uint8)\n",
    "        new_image = cv2.cvtColor(new_image, cv2.COLOR_RGB2BGR)\n",
    "    elif mode == 'RGBA':\n",
    "        new_image = np.array(image, dtype=np.uint8)\n",
    "        new_image = cv2.cvtColor(new_image, cv2.COLOR_RGBA2BGRA)\n",
    "    elif mode == 'LAB':\n",
    "        new_image = np.array(image, dtype=np.uint8)\n",
    "        new_image = cv2.cvtColor(new_image, cv2.COLOR_LAB2BGR)\n",
    "    elif mode == 'HSV':\n",
    "        new_image = np.array(image, dtype=np.uint8)\n",
    "        new_image = cv2.cvtColor(new_image, cv2.COLOR_HSV2BGR)\n",
    "    elif mode == 'YCbCr':\n",
    "        # XXX: not sure if YCbCr == YCrCb\n",
    "        new_image = np.array(image, dtype=np.uint8)\n",
    "        new_image = cv2.cvtColor(new_image, cv2.COLOR_YCrCb2BGR)\n",
    "    elif mode == 'P' or mode == 'CMYK':\n",
    "        new_image = np.array(image.convert('RGB'), dtype=np.uint8)\n",
    "        new_image = cv2.cvtColor(new_image, cv2.COLOR_RGB2BGR)\n",
    "    elif mode == 'PA' or mode == 'Pa':\n",
    "        new_image = np.array(image.convert('RGBA'), dtype=np.uint8)\n",
    "        new_image = cv2.cvtColor(new_image, cv2.COLOR_RGBA2BGRA)\n",
    "    else:\n",
    "        raise ValueError(f'unhandled image color mode: {mode}')\n",
    "\n",
    "    return new_image"
   ]
  },
  {
   "cell_type": "code",
   "execution_count": 18,
   "metadata": {},
   "outputs": [],
   "source": [
    "repo = \"intel-isl/MiDaS\"\n",
    "model_type = \"MiDaS_small\"\n",
    "# Zoe_N\n",
    "\n",
    "model_midas = torch.hub.load(repo, model_type)\n",
    "DEVICE = \"cuda\" if torch.cuda.is_available() else \"cpu\"\n",
    "midas = model_midas.to(DEVICE)\n",
    "midas = midas.eval()\n"
   ]
  },
  {
   "cell_type": "code",
   "execution_count": null,
   "metadata": {},
   "outputs": [],
   "source": []
  },
  {
   "cell_type": "code",
   "execution_count": null,
   "metadata": {},
   "outputs": [],
   "source": [
    "# sudo apt update && sudo apt install ffmpeg libsm6 libxext6 -y\n",
    "midas_transforms = torch.hub.load(repo, \"transforms\")\n",
    "transform = midas_transforms.small_transform\n"
   ]
  },
  {
   "cell_type": "code",
   "execution_count": null,
   "metadata": {},
   "outputs": [],
   "source": []
  },
  {
   "cell_type": "code",
   "execution_count": null,
   "metadata": {},
   "outputs": [],
   "source": [
    "#img = pil2cv(image)\n",
    "img = np.array(image.convert(\"RGB\"))\n",
    "input_batch = transform(img).to(DEVICE)\n",
    "with torch.no_grad():\n",
    "    prediction = midas(input_batch)\n",
    "\n",
    "    prediction = torch.nn.functional.interpolate(\n",
    "        prediction.unsqueeze(1),\n",
    "        size=img.shape[:2],\n",
    "        mode=\"bicubic\",\n",
    "        align_corners=False,\n",
    "    ).squeeze()\n",
    "\n",
    "output = prediction.cpu().numpy()\n"
   ]
  },
  {
   "cell_type": "code",
   "execution_count": null,
   "metadata": {},
   "outputs": [],
   "source": [
    "plt.imshow(output)"
   ]
  },
  {
   "cell_type": "code",
   "execution_count": null,
   "metadata": {},
   "outputs": [],
   "source": []
  },
  {
   "cell_type": "code",
   "execution_count": null,
   "metadata": {},
   "outputs": [],
   "source": [
    "\n",
    "jetbot_ip = '194.47.156.140' \n",
    "url = f'http://{jetbot_ip}:8080/camera'\n",
    "image = Image.open(requests.get(url, stream=True).raw)\n",
    "image"
   ]
  },
  {
   "cell_type": "code",
   "execution_count": 32,
   "metadata": {},
   "outputs": [],
   "source": [
    "img = np.array(image.convert(\"RGB\"))\n",
    "input_batch = transform(img).to(DEVICE)\n",
    "with torch.no_grad():\n",
    "    prediction = midas(input_batch)\n",
    "\n",
    "    prediction = torch.nn.functional.interpolate(\n",
    "        prediction.unsqueeze(1),\n",
    "        size=img.shape[:2],\n",
    "        mode=\"bicubic\",\n",
    "        align_corners=False,\n",
    "    ).squeeze()\n",
    "\n",
    "output = prediction.cpu().numpy()\n"
   ]
  },
  {
   "cell_type": "code",
   "execution_count": null,
   "metadata": {},
   "outputs": [],
   "source": [
    "fig, axes = plt.subplots(1,2, figsize=(21, 14))\n",
    "\n",
    "axes[0].imshow(output)\n",
    "axes[1].imshow(image)"
   ]
  },
  {
   "cell_type": "code",
   "execution_count": null,
   "metadata": {},
   "outputs": [],
   "source": []
  }
 ],
 "metadata": {
  "kernelspec": {
   "display_name": "Python 3",
   "language": "python",
   "name": "python3"
  },
  "language_info": {
   "codemirror_mode": {
    "name": "ipython",
    "version": 3
   },
   "file_extension": ".py",
   "mimetype": "text/x-python",
   "name": "python",
   "nbconvert_exporter": "python",
   "pygments_lexer": "ipython3",
   "version": "3.9.22"
  }
 },
 "nbformat": 4,
 "nbformat_minor": 4
}
