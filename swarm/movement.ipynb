{
 "cells": [
  {
   "cell_type": "code",
   "execution_count": null,
   "metadata": {},
   "outputs": [],
   "source": [
    "from server import move_left, move_forward, move_right, stop_robot, display_camera_stream"
   ]
  },
  {
   "cell_type": "code",
   "execution_count": null,
   "metadata": {},
   "outputs": [],
   "source": [
    "IP=\"194.47.156.221\""
   ]
  },
  {
   "cell_type": "code",
   "execution_count": null,
   "metadata": {},
   "outputs": [],
   "source": [
    "SPEED=0.1\n",
    "while True:\n",
    "    key = input(\"Command:\")\n",
    "    if len(key) > 2:\n",
    "        key = key[0]\n",
    "    \n",
    "    if \"s\":\n",
    "        stop_robot(IP)\n",
    "    elif \"a\":\n",
    "        move_left(IP, SPEED)\n",
    "    elif \"d\":\n",
    "        move_right(IP, SPEED)\n",
    "    elif \"w\":\n",
    "        move_forward(IP, SPEED)\n",
    "    elif \"c\":\n",
    "        stop_robot(IP)\n",
    "        break\n",
    "stop_robot()\n"
   ]
  },
  {
   "cell_type": "code",
   "execution_count": null,
   "metadata": {},
   "outputs": [],
   "source": [
    "display_camera_stream(IP)"
   ]
  }
 ],
 "metadata": {
  "kernelspec": {
   "display_name": "Python 3",
   "language": "python",
   "name": "python3"
  },
  "language_info": {
   "codemirror_mode": {
    "name": "ipython",
    "version": 3
   },
   "file_extension": ".py",
   "mimetype": "text/x-python",
   "name": "python",
   "nbconvert_exporter": "python",
   "pygments_lexer": "ipython3",
   "version": "3.9.22"
  }
 },
 "nbformat": 4,
 "nbformat_minor": 2
}
