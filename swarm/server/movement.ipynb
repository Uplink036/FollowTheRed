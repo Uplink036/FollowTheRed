{
 "cells": [
  {
   "cell_type": "code",
   "execution_count": null,
   "metadata": {},
   "outputs": [],
   "source": [
    "from server import move_left, move_forward, move_right, stop_robot, display_camera_stream, get_state, set_drive, get_weights"
   ]
  },
  {
   "cell_type": "code",
   "execution_count": null,
   "metadata": {},
   "outputs": [],
   "source": [
    "IP=\"194.47.156.140\""
   ]
  },
  {
   "cell_type": "code",
   "execution_count": null,
   "metadata": {},
   "outputs": [],
   "source": [
    "SPEED=0.1\n",
    "while True:\n",
    "    key = input(\"Command:\")\n",
    "    if len(key) > 2:\n",
    "        key = key[0]\n",
    "    \n",
    "    if \"s\":\n",
    "        stop_robot(IP)\n",
    "    elif \"a\":\n",
    "        move_left(IP, SPEED)\n",
    "    elif \"d\":\n",
    "        move_right(IP, SPEED)\n",
    "    elif \"w\":\n",
    "        move_forward(IP, SPEED)\n",
    "    elif \"c\":\n",
    "        stop_robot(IP)\n",
    "        break\n",
    "stop_robot()\n"
   ]
  },
  {
   "cell_type": "code",
   "execution_count": null,
   "metadata": {},
   "outputs": [],
   "source": [
    "display_camera_stream(IP)"
   ]
  },
  {
   "cell_type": "code",
   "execution_count": null,
   "metadata": {},
   "outputs": [],
   "source": [
    "get_state(IP)"
   ]
  },
  {
   "cell_type": "code",
   "execution_count": null,
   "metadata": {},
   "outputs": [],
   "source": [
    "from time import sleep\n",
    "states = [(0,0)]*len([IP])\n",
    "while True:\n",
    "    for index, ip in enumerate([IP]):\n",
    "        states[index] = get_state(ip)\n",
    "        sleep(1)\n",
    "    print(states)\n",
    "    "
   ]
  },
  {
   "cell_type": "code",
   "execution_count": null,
   "metadata": {},
   "outputs": [],
   "source": [
    "from federated import agglomerate\n",
    "IPS = [\"194.47.156.140\"]\n",
    "weights = [None]*len(IPS)\n",
    "descisions = [(0,0)]*len(IPS)\n",
    "for i in range(0, 100):\n",
    "    for index, IP in enumerate(IPS):\n",
    "        descisions[i] = get_state(ip)\n",
    "\n",
    "    for index, IP in enumerate(IPS):\n",
    "        move_robot =  set_drive(IP, descisions[index][0], descisions[index][1])\n",
    "    sleep(1) \n",
    "\n",
    "    for index, IP in enumerate(IPS):\n",
    "        stop_robot = stop_robot(IP)\n",
    "        weights[index] = get_weights(IP)\n",
    "\n",
    "    agg_weight = agglomerate(weights)\n",
    "\n",
    "    for index, IP in enumerate(IPS):\n",
    "        send_weights = None\n",
    "        "
   ]
  }
 ],
 "metadata": {
  "kernelspec": {
   "display_name": "Python 3",
   "language": "python",
   "name": "python3"
  },
  "language_info": {
   "codemirror_mode": {
    "name": "ipython",
    "version": 3
   },
   "file_extension": ".py",
   "mimetype": "text/x-python",
   "name": "python",
   "nbconvert_exporter": "python",
   "pygments_lexer": "ipython3",
   "version": "3.9.22"
  }
 },
 "nbformat": 4,
 "nbformat_minor": 2
}
