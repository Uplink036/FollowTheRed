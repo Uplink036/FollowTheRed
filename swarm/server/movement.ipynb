{
 "cells": [
  {
   "cell_type": "code",
   "execution_count": null,
   "metadata": {},
   "outputs": [],
   "source": [
    "from federated import agglomerate\n",
    "import torch\n",
    "from time import sleep\n",
    "from server import move_left, move_forward, move_right, stop_robot\n",
    "from server import display_camera_stream\n",
    "from server import get_state, set_drive, get_weights, set_weights"
   ]
  },
  {
   "cell_type": "code",
   "execution_count": null,
   "metadata": {},
   "outputs": [],
   "source": [
    "def x_y_to_action(x=float, y=float):\n",
    "    \"\"\"\n",
    "    X and Y are clamped to between 0 and 1, -1, -1 if not applicable\n",
    "    \"\"\"\n",
    "    if x < 0 or y < 0:\n",
    "        return (0, 0.2)\n",
    "\n",
    "    if x < 0.5:\n",
    "        direction = -1\n",
    "    else:\n",
    "        direction = 1\n",
    "    turn_speed = abs(x-0.5)/0.5\n",
    "\n",
    "    forward_speed = abs(y-0.5)/0.5\n",
    "\n",
    "    return (forward_speed, turn_speed*direction)"
   ]
  },
  {
   "cell_type": "code",
   "execution_count": null,
   "metadata": {},
   "outputs": [],
   "source": [
    "def PSO(colour_cords: list[dict], colors):\n",
    "    best_score = (-1, -1)\n",
    "    best_robot = 0\n",
    "    acts = [(0,0)]*len(colour_cords)\n",
    "    for index, robot in enumerate(colour_cords): \n",
    "        box_cords = robot[\"red\"]\n",
    "        if box_cords[0]>= 0 and box_cords[1]>= 0:\n",
    "            score = abs((0.5, 0.5) - box_cords)\n",
    "        else:\n",
    "            score = (-1, -1)\n",
    "        acts[index] = x_y_to_action(*box_cords)\n",
    "        \n",
    "        if score > best_score:\n",
    "            best_robot = index\n",
    "    \n",
    "    if len(colour_cords) > 1 and best_score > (0, 0):\n",
    "        for index, robot in enumerate(colour_cords): \n",
    "            if index == best_robot:\n",
    "                continue\n",
    "            best_robot_colour = colors[best_robot]\n",
    "            random_int = 0.5\n",
    "            acts[index] = random_int * acts[index] + (1-random_int) * x_y_to_action(*robot[best_robot_colour]) \n",
    "\n",
    "    return acts"
   ]
  },
  {
   "cell_type": "code",
   "execution_count": null,
   "metadata": {},
   "outputs": [],
   "source": [
    "# Test connection\n",
    "IPS = [\"194.47.156.140\", \"194.47.156.22\"]\n",
    "COLOURS = [\"blue\", \"yellow\"]\n",
    "for i in range(0, 100):\n",
    "    states = []\n",
    "    for index, IP in enumerate(IPS):\n",
    "        states.append(get_state(IP))\n",
    "states"
   ]
  },
  {
   "cell_type": "code",
   "execution_count": null,
   "metadata": {},
   "outputs": [],
   "source": [
    "weights = [None]*len(IPS)\n",
    "states = [(0,0)]*len(IPS)\n",
    "for i in range(0, 1):\n",
    "    states = []\n",
    "    for index, IP in enumerate(IPS):\n",
    "        states.append(get_state(IP))\n",
    "\n",
    "    descisions = PSO(states, COLOURS)\n",
    "\n",
    "    for index, IP in enumerate(IPS):\n",
    "        move_robot =  set_drive(IP, descisions[index][0], descisions[index][1])\n",
    "\n",
    "    sleep(1) \n",
    "\n",
    "    for index, IP in enumerate(IPS):\n",
    "        stop_robot(IP)\n",
    "    \n",
    "    if i % 10 == 0:\n",
    "        for index, IP in enumerate(IPS):\n",
    "            weights[index] = get_weights(IP)\n",
    "\n",
    "        agg_weight = agglomerate(weights)\n",
    "        \n",
    "        for index, IP in enumerate(IPS):\n",
    "            send_weights = set_weights(IP, agg_weight)\n",
    "            pass\n",
    "\n",
    "for index, IP in enumerate(IPS):\n",
    "    stop_robot = stop_robot(IP)\n",
    "    weights[index] = get_weights(IP)\n",
    "\n",
    "agg_weight = agglomerate(weights)\n",
    "torch.save(agg_weight, \"model.pth\")"
   ]
  },
  {
   "cell_type": "code",
   "execution_count": null,
   "metadata": {},
   "outputs": [],
   "source": [
    "states[0][\"red\"]"
   ]
  },
  {
   "cell_type": "code",
   "execution_count": null,
   "metadata": {},
   "outputs": [],
   "source": [
    "weights[0]"
   ]
  }
 ],
 "metadata": {
  "kernelspec": {
   "display_name": "Python 3",
   "language": "python",
   "name": "python3"
  },
  "language_info": {
   "codemirror_mode": {
    "name": "ipython",
    "version": 3
   },
   "file_extension": ".py",
   "mimetype": "text/x-python",
   "name": "python",
   "nbconvert_exporter": "python",
   "pygments_lexer": "ipython3",
   "version": "3.9.22"
  }
 },
 "nbformat": 4,
 "nbformat_minor": 2
}
