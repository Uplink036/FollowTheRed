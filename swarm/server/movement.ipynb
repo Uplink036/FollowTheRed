{
 "cells": [
  {
   "cell_type": "code",
   "execution_count": null,
   "metadata": {},
   "outputs": [],
   "source": [
    "from federated import agglomerate\n",
    "import torch\n",
    "from time import sleep\n",
    "from server import move_left, move_forward, move_right, stop_robot\n",
    "from server import display_camera_stream\n",
    "from server import get_state, set_drive, get_weights, set_weights\n",
    "import numpy as np"
   ]
  },
  {
   "cell_type": "code",
   "execution_count": null,
   "metadata": {},
   "outputs": [],
   "source": [
    "def x_y_to_action(x=float, y=float):\n",
    "    \"\"\"\n",
    "    X and Y are clamped to between 0 and 1, -1, -1 if not applicable\n",
    "    \"\"\"\n",
    "    if x < 0 or y < 0:\n",
    "        return (0, 0.2)\n",
    "\n",
    "    if x < 0.5:\n",
    "        direction = 1\n",
    "    else:\n",
    "        direction = -1\n",
    "    turn_speed = abs(x-0.5)/0.5\n",
    "\n",
    "    forward_speed = abs(y-0.5)/0.5\n",
    "\n",
    "    return (forward_speed, turn_speed*direction)"
   ]
  },
  {
   "cell_type": "code",
   "execution_count": null,
   "metadata": {},
   "outputs": [],
   "source": [
    "def PSO(colour_cords: list[dict], colors):\n",
    "    best_score = (-1, -1)\n",
    "    best_robot = 0\n",
    "    acts = [(0,0)]*len(colour_cords)\n",
    "    for index, robot in enumerate(colour_cords): \n",
    "        box_cords = robot[\"red\"]\n",
    "        if box_cords[0]>= 0 and box_cords[1]>= 0:\n",
    "            score = tuple(np.subtract((0.5, 0.5), tuple(box_cords)))\n",
    "        else:\n",
    "            score = (-1, -1)\n",
    "        acts[index] = x_y_to_action(*box_cords)\n",
    "        \n",
    "        if score > tuple(best_score):\n",
    "            best_robot = index\n",
    "    \n",
    "    if len(colour_cords) > 1 and best_score > (0, 0):\n",
    "        for index, robot in enumerate(colour_cords): \n",
    "            if index == best_robot:\n",
    "                continue\n",
    "            best_robot_colour = colors[best_robot]\n",
    "            robot_cords = robot[best_robot_colour]\n",
    "            if robot_cords[0]>= 0 and robot_cords[1]>= 0:\n",
    "                random_int = np.random.random(1)[0]\n",
    "                acts[index] = random_int * acts[index] + (1-random_int) * x_y_to_action(*robot[best_robot_colour]) \n",
    "\n",
    "    return acts"
   ]
  },
  {
   "cell_type": "code",
   "execution_count": null,
   "metadata": {},
   "outputs": [],
   "source": [
    "# Test connection\n",
    "IPS = [\"194.47.156.140\", \"194.47.156.22\", \"194.47.156.221\"]\n",
    "COLOURS = [\"blue\", \"yellow\", \"pink\"]\n",
    "for i in range(0, 100):\n",
    "    states = []\n",
    "    for index, IP in enumerate(IPS):\n",
    "        states.append(get_state(IP))\n",
    "states"
   ]
  },
  {
   "cell_type": "code",
   "execution_count": null,
   "metadata": {},
   "outputs": [],
   "source": [
    "USE_FL = False\n",
    "weights = [None]*len(IPS)\n",
    "states = [(0,0)]*len(IPS)\n",
    "for i in range(0, 20):\n",
    "    states = []\n",
    "    for index, IP in enumerate(IPS):\n",
    "        state = get_state(IP)\n",
    "        print(f\"{IP=} | {COLOURS[index]} | {state=}\")\n",
    "        states.append(state)\n",
    "\n",
    "    descisions = PSO(states, COLOURS)\n",
    "\n",
    "    for index, IP in enumerate(IPS):\n",
    "        forward = np.clip(descisions[index], a_min=0.1, a_max=0.3)[0]\n",
    "        turn = np.clip(descisions[index], a_min=-0.5, a_max=0.5)[1]\n",
    "        move_robot =  set_drive(IP, forward, turn)\n",
    "\n",
    "    sleep(1) \n",
    "\n",
    "    for index, IP in enumerate(IPS):\n",
    "        stop_robot(IP)\n",
    "    \n",
    "    if USE_FL and i % 10 == 0:\n",
    "        for index, IP in enumerate(IPS):\n",
    "            weights[index] = get_weights(IP)\n",
    "\n",
    "        agg_weight = agglomerate(weights)\n",
    "        \n",
    "        for index, IP in enumerate(IPS):\n",
    "            send_weights = set_weights(IP, agg_weight)\n",
    "            pass\n",
    "\n",
    "for index, IP in enumerate(IPS):\n",
    "    stop_robot(IP)\n",
    "if USE_FL:\n",
    "    for index, IP in enumerate(IPS):\n",
    "        weights[index] = get_weights(IP)\n",
    "\n",
    "    agg_weight = agglomerate(weights)\n",
    "    torch.save(agg_weight, \"model.pth\")"
   ]
  },
  {
   "cell_type": "code",
   "execution_count": null,
   "metadata": {},
   "outputs": [],
   "source": [
    "states"
   ]
  },
  {
   "cell_type": "code",
   "execution_count": null,
   "metadata": {},
   "outputs": [],
   "source": []
  },
  {
   "cell_type": "code",
   "execution_count": null,
   "metadata": {},
   "outputs": [],
   "source": [
    "for index, IP in enumerate(IPS):\n",
    "    stop_robot(IP)"
   ]
  },
  {
   "cell_type": "code",
   "execution_count": null,
   "metadata": {},
   "outputs": [],
   "source": []
  }
 ],
 "metadata": {
  "kernelspec": {
   "display_name": "Python 3",
   "language": "python",
   "name": "python3"
  },
  "language_info": {
   "codemirror_mode": {
    "name": "ipython",
    "version": 3
   },
   "file_extension": ".py",
   "mimetype": "text/x-python",
   "name": "python",
   "nbconvert_exporter": "python",
   "pygments_lexer": "ipython3",
   "version": "3.9.22"
  }
 },
 "nbformat": 4,
 "nbformat_minor": 2
}
