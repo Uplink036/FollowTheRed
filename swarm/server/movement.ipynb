{
 "cells": [
  {
   "cell_type": "code",
   "execution_count": null,
   "metadata": {},
   "outputs": [],
   "source": [
    "from federated import agglomerate\n",
    "import torch\n",
    "from time import sleep\n",
    "from server import move_left, move_forward, move_right, stop_robot\n",
    "from server import display_camera_stream\n",
    "from server import get_state, set_drive, get_weights, set_weights"
   ]
  },
  {
   "cell_type": "code",
   "execution_count": null,
   "metadata": {},
   "outputs": [],
   "source": [
    "def action(box_cords):\n",
    "    if box_cords < 0:\n",
    "        return (0, -0.2)\n",
    "    pass\n",
    "\n",
    "def PSO(robots: list[list[(float, float)]]):\n",
    "    best_score = (-1, -1)\n",
    "    best_robot = 0\n",
    "    acts = [(0,0)]*robots\n",
    "    for index, robot in enumerate(robots): \n",
    "        box_cords = robot[0]\n",
    "        if box_cords > 0:\n",
    "            score = abs((0.5, 0.5) - box_cords)\n",
    "        else:\n",
    "            score = (-1, -1)\n",
    "        acts[index] = action(score)\n",
    "        \n",
    "        if score > best_score:\n",
    "            best_robot = index\n",
    "    \n",
    "    if len(robots) > 1 and best_score > 0:\n",
    "        for index, robot in enumerate(robots): \n",
    "            if index == best_robot:\n",
    "                continue\n",
    "            acts[index] *= (sum(best_score)/2) * robots[best_robot]\n",
    "\n",
    "    return acts"
   ]
  },
  {
   "cell_type": "code",
   "execution_count": null,
   "metadata": {},
   "outputs": [],
   "source": [
    "IPS = [\"194.47.156.140\"]\n",
    "COLOURS = [\"GREEN\"]\n",
    "weights = [None]*len(IPS)\n",
    "states = [(0,0)]*len(IPS)\n",
    "for i in range(0, 100):\n",
    "    states = []\n",
    "    for index, IP in enumerate(IPS):\n",
    "        states.append(tuple(get_state(IP).values()))\n",
    "\n",
    "    #descisions = PSO(states)\n",
    "\n",
    "    for index, IP in enumerate(IPS):\n",
    "        #move_robot =  set_drive(IP, descisions[index][0], descisions[index][1])\n",
    "        set_drive(IP, states[index][0], states[index][1]+0.01)\n",
    "\n",
    "    sleep(1) \n",
    "\n",
    "    for index, IP in enumerate(IPS):\n",
    "        stop_robot(IP)\n",
    "    \n",
    "    if i % 10 == 0:\n",
    "        for index, IP in enumerate(IPS):\n",
    "            weights[index] = get_weights(IP)\n",
    "\n",
    "        agg_weight = agglomerate(weights)\n",
    "        \n",
    "        for index, IP in enumerate(IPS):\n",
    "            send_weights = set_weights(IP, agg_weight)\n",
    "            pass\n",
    "\n",
    "for index, IP in enumerate(IPS):\n",
    "    stop_robot = stop_robot(IP)\n",
    "    weights[index] = get_weights(IP)\n",
    "\n",
    "agg_weight = agglomerate(weights)\n",
    "torch.save(agg_weight, \"model.pth\")"
   ]
  }
 ],
 "metadata": {
  "kernelspec": {
   "display_name": "Python 3",
   "language": "python",
   "name": "python3"
  },
  "language_info": {
   "codemirror_mode": {
    "name": "ipython",
    "version": 3
   },
   "file_extension": ".py",
   "mimetype": "text/x-python",
   "name": "python",
   "nbconvert_exporter": "python",
   "pygments_lexer": "ipython3",
   "version": "3.9.22"
  }
 },
 "nbformat": 4,
 "nbformat_minor": 2
}
